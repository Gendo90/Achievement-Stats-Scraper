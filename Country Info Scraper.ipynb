{
 "cells": [
  {
   "cell_type": "code",
   "execution_count": 6,
   "metadata": {},
   "outputs": [],
   "source": [
    "from bs4 import BeautifulSoup as bs\n",
    "from splinter import Browser\n",
    "import time\n",
    "import datetime\n",
    "import pandas as pd\n",
    "import lxml"
   ]
  },
  {
   "cell_type": "code",
   "execution_count": 7,
   "metadata": {},
   "outputs": [],
   "source": [
    "#gets alt tags for images that are otherwise given in table as NaN, for levels and country\n",
    "def getAlt(x):\n",
    "    for img in x.find_all('img'):\n",
    "        if(img.get(\"alt\")):\n",
    "#             print(img.get(\"alt\"))\n",
    "            img.string = img.get(\"alt\")\n",
    "\n",
    "#copied code from scrape_mars.py\n",
    "def getCountryData():\n",
    "    url = \"https://achievementstats.com/index.php?action=countries\"\n",
    "\n",
    "    executable_path = {'executable_path': 'chromedriver.exe'}\n",
    "    browser = Browser('chrome', **executable_path, headless=False)\n",
    "\n",
    "    browser.visit(url)\n",
    "    \n",
    "    #add a delay so page fully loads\n",
    "    time.sleep(6)\n",
    "    \n",
    "    \n",
    "    #start collecting data\n",
    "    \n",
    "        \n",
    "    try:\n",
    "        current_leaderboard = browser.html\n",
    "\n",
    "        news_soup = bs(current_leaderboard, \"html.parser\")\n",
    "\n",
    "        top_scorers = news_soup.find_all(\"table\")[0]\n",
    "#             print(top_scorers.prettify())\n",
    "        getAlt(top_scorers)\n",
    "\n",
    "        #if(i == 0):\n",
    "        #else:\n",
    "            #output = output.append(pd.read_html(top_scorers.prettify(), header=0, flavor=\"bs4\")[0], ignore_index=True)\n",
    "        curr_rank = int(browser.find_by_tag('tr').last.find_by_tag(\"td\").first.text)\n",
    "        print(curr_rank, lowest_rank)\n",
    "        browser.find_by_tag('tr').last.click()\n",
    "    except:\n",
    "#             print(\"Missing page #{} of 100\".format(i))\n",
    "        print(\"Error loading, try again!\")\n",
    "\n",
    "    #read output at the end, only once!\n",
    "    output = pd.read_html(top_scorers.prettify(), header=0, flavor=\"bs4\")[0]\n",
    "    \n",
    "    browser.quit()\n",
    "\n",
    "    return output"
   ]
  },
  {
   "cell_type": "code",
   "execution_count": 8,
   "metadata": {},
   "outputs": [
    {
     "name": "stdout",
     "output_type": "stream",
     "text": [
      "Error loading, try again!\n"
     ]
    },
    {
     "data": {
      "text/html": [
       "<div>\n",
       "<style scoped>\n",
       "    .dataframe tbody tr th:only-of-type {\n",
       "        vertical-align: middle;\n",
       "    }\n",
       "\n",
       "    .dataframe tbody tr th {\n",
       "        vertical-align: top;\n",
       "    }\n",
       "\n",
       "    .dataframe thead th {\n",
       "        text-align: right;\n",
       "    }\n",
       "</style>\n",
       "<table border=\"1\" class=\"dataframe\">\n",
       "  <thead>\n",
       "    <tr style=\"text-align: right;\">\n",
       "      <th></th>\n",
       "      <th>Rank</th>\n",
       "      <th>Country</th>\n",
       "      <th>Players</th>\n",
       "      <th>Points</th>\n",
       "      <th>Number</th>\n",
       "      <th>Games</th>\n",
       "      <th>Badges</th>\n",
       "      <th>XP</th>\n",
       "      <th>Hours</th>\n",
       "    </tr>\n",
       "  </thead>\n",
       "  <tbody>\n",
       "    <tr>\n",
       "      <th>0</th>\n",
       "      <td>0</td>\n",
       "      <td>Unknown</td>\n",
       "      <td>118487</td>\n",
       "      <td>80820883.48</td>\n",
       "      <td>127002717</td>\n",
       "      <td>29117648</td>\n",
       "      <td>5168616</td>\n",
       "      <td>2141390389</td>\n",
       "      <td>370195328.5</td>\n",
       "    </tr>\n",
       "    <tr>\n",
       "      <th>1</th>\n",
       "      <td>1</td>\n",
       "      <td>United States</td>\n",
       "      <td>54305</td>\n",
       "      <td>47979566.15</td>\n",
       "      <td>77406751</td>\n",
       "      <td>18931455</td>\n",
       "      <td>2453372</td>\n",
       "      <td>935132654</td>\n",
       "      <td>214073268.7</td>\n",
       "    </tr>\n",
       "    <tr>\n",
       "      <th>2</th>\n",
       "      <td>2</td>\n",
       "      <td>Russian Federation</td>\n",
       "      <td>29151</td>\n",
       "      <td>25380563.42</td>\n",
       "      <td>37680967</td>\n",
       "      <td>7099883</td>\n",
       "      <td>1624289</td>\n",
       "      <td>686426354</td>\n",
       "      <td>99314574.7</td>\n",
       "    </tr>\n",
       "    <tr>\n",
       "      <th>3</th>\n",
       "      <td>3</td>\n",
       "      <td>Germany</td>\n",
       "      <td>19837</td>\n",
       "      <td>16717946.58</td>\n",
       "      <td>26047887</td>\n",
       "      <td>6191048</td>\n",
       "      <td>1322410</td>\n",
       "      <td>566074775</td>\n",
       "      <td>78864614.9</td>\n",
       "    </tr>\n",
       "    <tr>\n",
       "      <th>4</th>\n",
       "      <td>4</td>\n",
       "      <td>United Kingdom (Great Britain)</td>\n",
       "      <td>15075</td>\n",
       "      <td>14495523.36</td>\n",
       "      <td>23319182</td>\n",
       "      <td>5451881</td>\n",
       "      <td>756080</td>\n",
       "      <td>280635406</td>\n",
       "      <td>62780618.4</td>\n",
       "    </tr>\n",
       "    <tr>\n",
       "      <th>...</th>\n",
       "      <td>...</td>\n",
       "      <td>...</td>\n",
       "      <td>...</td>\n",
       "      <td>...</td>\n",
       "      <td>...</td>\n",
       "      <td>...</td>\n",
       "      <td>...</td>\n",
       "      <td>...</td>\n",
       "      <td>...</td>\n",
       "    </tr>\n",
       "    <tr>\n",
       "      <th>248</th>\n",
       "      <td>248</td>\n",
       "      <td>Mauritania</td>\n",
       "      <td>9</td>\n",
       "      <td>3122.43</td>\n",
       "      <td>5475</td>\n",
       "      <td>768</td>\n",
       "      <td>143</td>\n",
       "      <td>43192</td>\n",
       "      <td>24425.2</td>\n",
       "    </tr>\n",
       "    <tr>\n",
       "      <th>249</th>\n",
       "      <td>249</td>\n",
       "      <td>French Guiana</td>\n",
       "      <td>8</td>\n",
       "      <td>2567.70</td>\n",
       "      <td>5418</td>\n",
       "      <td>1111</td>\n",
       "      <td>92</td>\n",
       "      <td>17904</td>\n",
       "      <td>21487.8</td>\n",
       "    </tr>\n",
       "    <tr>\n",
       "      <th>250</th>\n",
       "      <td>250</td>\n",
       "      <td>Anguilla</td>\n",
       "      <td>16</td>\n",
       "      <td>2086.18</td>\n",
       "      <td>5009</td>\n",
       "      <td>774</td>\n",
       "      <td>195</td>\n",
       "      <td>46729</td>\n",
       "      <td>23037.5</td>\n",
       "    </tr>\n",
       "    <tr>\n",
       "      <th>251</th>\n",
       "      <td>251</td>\n",
       "      <td>Moldova, Republic of</td>\n",
       "      <td>2</td>\n",
       "      <td>589.10</td>\n",
       "      <td>752</td>\n",
       "      <td>129</td>\n",
       "      <td>116</td>\n",
       "      <td>17486</td>\n",
       "      <td>1939.9</td>\n",
       "    </tr>\n",
       "    <tr>\n",
       "      <th>252</th>\n",
       "      <td>252</td>\n",
       "      <td>Yugoslavia</td>\n",
       "      <td>1</td>\n",
       "      <td>0.52</td>\n",
       "      <td>1</td>\n",
       "      <td>3</td>\n",
       "      <td>2</td>\n",
       "      <td>156</td>\n",
       "      <td>13.9</td>\n",
       "    </tr>\n",
       "  </tbody>\n",
       "</table>\n",
       "<p>253 rows × 9 columns</p>\n",
       "</div>"
      ],
      "text/plain": [
       "     Rank                         Country  Players       Points     Number  \\\n",
       "0       0                         Unknown   118487  80820883.48  127002717   \n",
       "1       1                   United States    54305  47979566.15   77406751   \n",
       "2       2              Russian Federation    29151  25380563.42   37680967   \n",
       "3       3                         Germany    19837  16717946.58   26047887   \n",
       "4       4  United Kingdom (Great Britain)    15075  14495523.36   23319182   \n",
       "..    ...                             ...      ...          ...        ...   \n",
       "248   248                      Mauritania        9      3122.43       5475   \n",
       "249   249                   French Guiana        8      2567.70       5418   \n",
       "250   250                        Anguilla       16      2086.18       5009   \n",
       "251   251            Moldova, Republic of        2       589.10        752   \n",
       "252   252                      Yugoslavia        1         0.52          1   \n",
       "\n",
       "        Games   Badges          XP        Hours  \n",
       "0    29117648  5168616  2141390389  370195328.5  \n",
       "1    18931455  2453372   935132654  214073268.7  \n",
       "2     7099883  1624289   686426354   99314574.7  \n",
       "3     6191048  1322410   566074775   78864614.9  \n",
       "4     5451881   756080   280635406   62780618.4  \n",
       "..        ...      ...         ...          ...  \n",
       "248       768      143       43192      24425.2  \n",
       "249      1111       92       17904      21487.8  \n",
       "250       774      195       46729      23037.5  \n",
       "251       129      116       17486       1939.9  \n",
       "252         3        2         156         13.9  \n",
       "\n",
       "[253 rows x 9 columns]"
      ]
     },
     "execution_count": 8,
     "metadata": {},
     "output_type": "execute_result"
    }
   ],
   "source": [
    "#should get whole page/table with in one go!\n",
    "output_df = getCountryData()\n",
    "output_df"
   ]
  },
  {
   "cell_type": "code",
   "execution_count": 9,
   "metadata": {},
   "outputs": [],
   "source": [
    "output_df.to_csv(\"./country_data.csv\", index=False)"
   ]
  },
  {
   "cell_type": "code",
   "execution_count": 10,
   "metadata": {},
   "outputs": [
    {
     "data": {
      "image/png": "[encoded data removed]",
      "text/plain": [
       "<Figure size 432x288 with 1 Axes>"
      ]
     },
     "metadata": {
      "needs_background": "light"
     },
     "output_type": "display_data"
    }
   ],
   "source": [
    "temp_axes1 = output_df.plot(kind=\"scatter\", x=\"Hours\", \n",
    "                                       y=\"Points\", \n",
    "                                       title=\"Points vs. Hours\")"
   ]
  },
  {
   "cell_type": "code",
   "execution_count": 11,
   "metadata": {},
   "outputs": [
    {
     "data": {
      "image/png": "[encoded data removed]",
      "text/plain": [
       "<Figure size 432x288 with 1 Axes>"
      ]
     },
     "metadata": {
      "needs_background": "light"
     },
     "output_type": "display_data"
    }
   ],
   "source": [
    "temp_axes2 = output_df.plot(kind=\"scatter\", x=\"Players\", \n",
    "                                       y=\"Points\", \n",
    "                                       title=\"Points vs. Players\")"
   ]
  },
  {
   "cell_type": "code",
   "execution_count": 12,
   "metadata": {},
   "outputs": [
    {
     "data": {
      "image/png": "[encoded data removed]",
      "text/plain": [
       "<Figure size 432x288 with 1 Axes>"
      ]
     },
     "metadata": {
      "needs_background": "light"
     },
     "output_type": "display_data"
    }
   ],
   "source": [
    "temp_axes3 = output_df.plot(kind=\"scatter\", x=\"Hours\", \n",
    "                                       y=\"Badges\", \n",
    "                                       title=\"Badges vs. Hours\")"
   ]
  },
  {
   "cell_type": "code",
   "execution_count": 13,
   "metadata": {},
   "outputs": [
    {
     "data": {
      "image/png": "[encoded data removed]",
      "text/plain": [
       "<Figure size 432x288 with 1 Axes>"
      ]
     },
     "metadata": {
      "needs_background": "light"
     },
     "output_type": "display_data"
    }
   ],
   "source": [
    "temp_axes4 = output_df.plot(kind=\"scatter\", x=\"Hours\", \n",
    "                                       y=\"Games\", \n",
    "                                       title=\"Games vs. Hours\")"
   ]
  },
  {
   "cell_type": "code",
   "execution_count": 14,
   "metadata": {},
   "outputs": [],
   "source": [
    "# TODO: Examine relationship between columns - looks like linear regression might fit most of the data now that it is aggregated\n",
    "# We can get the relationships between hours played/number of players and the other columns to predict the average rate of \n",
    "# progress on steam (e.g. achievements per hour, badges per hour, XP per hour, etc. as well as the averages by country - like\n",
    "# games per player, points per player)"
   ]
  },
  {
   "cell_type": "code",
   "execution_count": null,
   "metadata": {},
   "outputs": [],
   "source": []
  }
 ],
 "metadata": {
  "kernelspec": {
   "display_name": "Python 3",
   "language": "python",
   "name": "python3"
  },
  "language_info": {
   "codemirror_mode": {
    "name": "ipython",
    "version": 3
   },
   "file_extension": ".py",
   "mimetype": "text/x-python",
   "name": "python",
   "nbconvert_exporter": "python",
   "pygments_lexer": "ipython3",
   "version": "3.7.6"
  }
 },
 "nbformat": 4,
 "nbformat_minor": 4
}
