{
 "cells": [
  {
   "cell_type": "code",
   "execution_count": 157,
   "metadata": {},
   "outputs": [],
   "source": [
    "import datetime\n",
    "import pandas as pd\n",
    "import matplotlib.pyplot as plt\n",
    "from sklearn.linear_model import LinearRegression"
   ]
  },
  {
   "cell_type": "code",
   "execution_count": 158,
   "metadata": {},
   "outputs": [
    {
     "data": {
      "text/html": [
       "<div>\n",
       "<style scoped>\n",
       "    .dataframe tbody tr th:only-of-type {\n",
       "        vertical-align: middle;\n",
       "    }\n",
       "\n",
       "    .dataframe tbody tr th {\n",
       "        vertical-align: top;\n",
       "    }\n",
       "\n",
       "    .dataframe thead th {\n",
       "        text-align: right;\n",
       "    }\n",
       "</style>\n",
       "<table border=\"1\" class=\"dataframe\">\n",
       "  <thead>\n",
       "    <tr style=\"text-align: right;\">\n",
       "      <th></th>\n",
       "      <th>Rank</th>\n",
       "      <th>Country</th>\n",
       "      <th>Players</th>\n",
       "      <th>Points</th>\n",
       "      <th>Number</th>\n",
       "      <th>Games</th>\n",
       "      <th>Badges</th>\n",
       "      <th>XP</th>\n",
       "      <th>Hours</th>\n",
       "    </tr>\n",
       "  </thead>\n",
       "  <tbody>\n",
       "    <tr>\n",
       "      <th>0</th>\n",
       "      <td>0</td>\n",
       "      <td>Unknown</td>\n",
       "      <td>135643</td>\n",
       "      <td>86532124.75</td>\n",
       "      <td>137664177</td>\n",
       "      <td>31410891</td>\n",
       "      <td>5453964</td>\n",
       "      <td>2252121996</td>\n",
       "      <td>412471186.4</td>\n",
       "    </tr>\n",
       "    <tr>\n",
       "      <th>1</th>\n",
       "      <td>1</td>\n",
       "      <td>United States</td>\n",
       "      <td>59698</td>\n",
       "      <td>52132889.98</td>\n",
       "      <td>84410455</td>\n",
       "      <td>20379201</td>\n",
       "      <td>2569218</td>\n",
       "      <td>974895706</td>\n",
       "      <td>236137390.5</td>\n",
       "    </tr>\n",
       "    <tr>\n",
       "      <th>2</th>\n",
       "      <td>2</td>\n",
       "      <td>Russian Federation</td>\n",
       "      <td>31058</td>\n",
       "      <td>24753943.31</td>\n",
       "      <td>37279292</td>\n",
       "      <td>7247856</td>\n",
       "      <td>1657378</td>\n",
       "      <td>693424533</td>\n",
       "      <td>104656082.0</td>\n",
       "    </tr>\n",
       "    <tr>\n",
       "      <th>3</th>\n",
       "      <td>3</td>\n",
       "      <td>Germany</td>\n",
       "      <td>21750</td>\n",
       "      <td>18214362.15</td>\n",
       "      <td>28423805</td>\n",
       "      <td>6658939</td>\n",
       "      <td>1381807</td>\n",
       "      <td>590848431</td>\n",
       "      <td>86523185.4</td>\n",
       "    </tr>\n",
       "    <tr>\n",
       "      <th>4</th>\n",
       "      <td>4</td>\n",
       "      <td>United Kingdom (Great Britain)</td>\n",
       "      <td>16225</td>\n",
       "      <td>15635912.83</td>\n",
       "      <td>25101789</td>\n",
       "      <td>5780703</td>\n",
       "      <td>786975</td>\n",
       "      <td>294574732</td>\n",
       "      <td>68131144.6</td>\n",
       "    </tr>\n",
       "    <tr>\n",
       "      <th>...</th>\n",
       "      <td>...</td>\n",
       "      <td>...</td>\n",
       "      <td>...</td>\n",
       "      <td>...</td>\n",
       "      <td>...</td>\n",
       "      <td>...</td>\n",
       "      <td>...</td>\n",
       "      <td>...</td>\n",
       "      <td>...</td>\n",
       "    </tr>\n",
       "    <tr>\n",
       "      <th>248</th>\n",
       "      <td>248</td>\n",
       "      <td>Mauritania</td>\n",
       "      <td>10</td>\n",
       "      <td>3231.50</td>\n",
       "      <td>5663</td>\n",
       "      <td>788</td>\n",
       "      <td>144</td>\n",
       "      <td>43292</td>\n",
       "      <td>24574.4</td>\n",
       "    </tr>\n",
       "    <tr>\n",
       "      <th>249</th>\n",
       "      <td>249</td>\n",
       "      <td>French Guiana</td>\n",
       "      <td>7</td>\n",
       "      <td>2587.67</td>\n",
       "      <td>5310</td>\n",
       "      <td>1100</td>\n",
       "      <td>81</td>\n",
       "      <td>16709</td>\n",
       "      <td>20665.0</td>\n",
       "    </tr>\n",
       "    <tr>\n",
       "      <th>250</th>\n",
       "      <td>250</td>\n",
       "      <td>Anguilla</td>\n",
       "      <td>14</td>\n",
       "      <td>2089.76</td>\n",
       "      <td>4749</td>\n",
       "      <td>626</td>\n",
       "      <td>116</td>\n",
       "      <td>21427</td>\n",
       "      <td>18169.2</td>\n",
       "    </tr>\n",
       "    <tr>\n",
       "      <th>251</th>\n",
       "      <td>251</td>\n",
       "      <td>Moldova, Republic of</td>\n",
       "      <td>2</td>\n",
       "      <td>617.02</td>\n",
       "      <td>752</td>\n",
       "      <td>129</td>\n",
       "      <td>116</td>\n",
       "      <td>17486</td>\n",
       "      <td>1939.9</td>\n",
       "    </tr>\n",
       "    <tr>\n",
       "      <th>252</th>\n",
       "      <td>252</td>\n",
       "      <td>Yugoslavia</td>\n",
       "      <td>1</td>\n",
       "      <td>0.54</td>\n",
       "      <td>1</td>\n",
       "      <td>3</td>\n",
       "      <td>2</td>\n",
       "      <td>156</td>\n",
       "      <td>13.9</td>\n",
       "    </tr>\n",
       "  </tbody>\n",
       "</table>\n",
       "<p>253 rows × 9 columns</p>\n",
       "</div>"
      ],
      "text/plain": [
       "     Rank                         Country  Players       Points     Number  \\\n",
       "0       0                         Unknown   135643  86532124.75  137664177   \n",
       "1       1                   United States    59698  52132889.98   84410455   \n",
       "2       2              Russian Federation    31058  24753943.31   37279292   \n",
       "3       3                         Germany    21750  18214362.15   28423805   \n",
       "4       4  United Kingdom (Great Britain)    16225  15635912.83   25101789   \n",
       "..    ...                             ...      ...          ...        ...   \n",
       "248   248                      Mauritania       10      3231.50       5663   \n",
       "249   249                   French Guiana        7      2587.67       5310   \n",
       "250   250                        Anguilla       14      2089.76       4749   \n",
       "251   251            Moldova, Republic of        2       617.02        752   \n",
       "252   252                      Yugoslavia        1         0.54          1   \n",
       "\n",
       "        Games   Badges          XP        Hours  \n",
       "0    31410891  5453964  2252121996  412471186.4  \n",
       "1    20379201  2569218   974895706  236137390.5  \n",
       "2     7247856  1657378   693424533  104656082.0  \n",
       "3     6658939  1381807   590848431   86523185.4  \n",
       "4     5780703   786975   294574732   68131144.6  \n",
       "..        ...      ...         ...          ...  \n",
       "248       788      144       43292      24574.4  \n",
       "249      1100       81       16709      20665.0  \n",
       "250       626      116       21427      18169.2  \n",
       "251       129      116       17486       1939.9  \n",
       "252         3        2         156         13.9  \n",
       "\n",
       "[253 rows x 9 columns]"
      ]
     },
     "execution_count": 158,
     "metadata": {},
     "output_type": "execute_result"
    }
   ],
   "source": [
    "country_data = pd.read_csv(\"../country_data.csv\")\n",
    "\n",
    "country_data"
   ]
  },
  {
   "cell_type": "code",
   "execution_count": 159,
   "metadata": {},
   "outputs": [
    {
     "data": {
      "text/html": [
       "<div>\n",
       "<style scoped>\n",
       "    .dataframe tbody tr th:only-of-type {\n",
       "        vertical-align: middle;\n",
       "    }\n",
       "\n",
       "    .dataframe tbody tr th {\n",
       "        vertical-align: top;\n",
       "    }\n",
       "\n",
       "    .dataframe thead th {\n",
       "        text-align: right;\n",
       "    }\n",
       "</style>\n",
       "<table border=\"1\" class=\"dataframe\">\n",
       "  <thead>\n",
       "    <tr style=\"text-align: right;\">\n",
       "      <th></th>\n",
       "      <th>Rank</th>\n",
       "      <th>Country</th>\n",
       "      <th>Players</th>\n",
       "      <th>Points</th>\n",
       "      <th>Number</th>\n",
       "      <th>Games</th>\n",
       "      <th>Badges</th>\n",
       "      <th>XP</th>\n",
       "      <th>Hours</th>\n",
       "    </tr>\n",
       "  </thead>\n",
       "  <tbody>\n",
       "    <tr>\n",
       "      <th>1</th>\n",
       "      <td>1</td>\n",
       "      <td>United States</td>\n",
       "      <td>59698</td>\n",
       "      <td>52132889.98</td>\n",
       "      <td>84410455</td>\n",
       "      <td>20379201</td>\n",
       "      <td>2569218</td>\n",
       "      <td>974895706</td>\n",
       "      <td>236137390.5</td>\n",
       "    </tr>\n",
       "    <tr>\n",
       "      <th>2</th>\n",
       "      <td>2</td>\n",
       "      <td>Russian Federation</td>\n",
       "      <td>31058</td>\n",
       "      <td>24753943.31</td>\n",
       "      <td>37279292</td>\n",
       "      <td>7247856</td>\n",
       "      <td>1657378</td>\n",
       "      <td>693424533</td>\n",
       "      <td>104656082.0</td>\n",
       "    </tr>\n",
       "    <tr>\n",
       "      <th>3</th>\n",
       "      <td>3</td>\n",
       "      <td>Germany</td>\n",
       "      <td>21750</td>\n",
       "      <td>18214362.15</td>\n",
       "      <td>28423805</td>\n",
       "      <td>6658939</td>\n",
       "      <td>1381807</td>\n",
       "      <td>590848431</td>\n",
       "      <td>86523185.4</td>\n",
       "    </tr>\n",
       "    <tr>\n",
       "      <th>4</th>\n",
       "      <td>4</td>\n",
       "      <td>United Kingdom (Great Britain)</td>\n",
       "      <td>16225</td>\n",
       "      <td>15635912.83</td>\n",
       "      <td>25101789</td>\n",
       "      <td>5780703</td>\n",
       "      <td>786975</td>\n",
       "      <td>294574732</td>\n",
       "      <td>68131144.6</td>\n",
       "    </tr>\n",
       "    <tr>\n",
       "      <th>5</th>\n",
       "      <td>5</td>\n",
       "      <td>Canada</td>\n",
       "      <td>12483</td>\n",
       "      <td>10999031.70</td>\n",
       "      <td>17436104</td>\n",
       "      <td>4012880</td>\n",
       "      <td>606502</td>\n",
       "      <td>239174494</td>\n",
       "      <td>49354715.3</td>\n",
       "    </tr>\n",
       "    <tr>\n",
       "      <th>...</th>\n",
       "      <td>...</td>\n",
       "      <td>...</td>\n",
       "      <td>...</td>\n",
       "      <td>...</td>\n",
       "      <td>...</td>\n",
       "      <td>...</td>\n",
       "      <td>...</td>\n",
       "      <td>...</td>\n",
       "      <td>...</td>\n",
       "    </tr>\n",
       "    <tr>\n",
       "      <th>248</th>\n",
       "      <td>248</td>\n",
       "      <td>Mauritania</td>\n",
       "      <td>10</td>\n",
       "      <td>3231.50</td>\n",
       "      <td>5663</td>\n",
       "      <td>788</td>\n",
       "      <td>144</td>\n",
       "      <td>43292</td>\n",
       "      <td>24574.4</td>\n",
       "    </tr>\n",
       "    <tr>\n",
       "      <th>249</th>\n",
       "      <td>249</td>\n",
       "      <td>French Guiana</td>\n",
       "      <td>7</td>\n",
       "      <td>2587.67</td>\n",
       "      <td>5310</td>\n",
       "      <td>1100</td>\n",
       "      <td>81</td>\n",
       "      <td>16709</td>\n",
       "      <td>20665.0</td>\n",
       "    </tr>\n",
       "    <tr>\n",
       "      <th>250</th>\n",
       "      <td>250</td>\n",
       "      <td>Anguilla</td>\n",
       "      <td>14</td>\n",
       "      <td>2089.76</td>\n",
       "      <td>4749</td>\n",
       "      <td>626</td>\n",
       "      <td>116</td>\n",
       "      <td>21427</td>\n",
       "      <td>18169.2</td>\n",
       "    </tr>\n",
       "    <tr>\n",
       "      <th>251</th>\n",
       "      <td>251</td>\n",
       "      <td>Moldova, Republic of</td>\n",
       "      <td>2</td>\n",
       "      <td>617.02</td>\n",
       "      <td>752</td>\n",
       "      <td>129</td>\n",
       "      <td>116</td>\n",
       "      <td>17486</td>\n",
       "      <td>1939.9</td>\n",
       "    </tr>\n",
       "    <tr>\n",
       "      <th>252</th>\n",
       "      <td>252</td>\n",
       "      <td>Yugoslavia</td>\n",
       "      <td>1</td>\n",
       "      <td>0.54</td>\n",
       "      <td>1</td>\n",
       "      <td>3</td>\n",
       "      <td>2</td>\n",
       "      <td>156</td>\n",
       "      <td>13.9</td>\n",
       "    </tr>\n",
       "  </tbody>\n",
       "</table>\n",
       "<p>252 rows × 9 columns</p>\n",
       "</div>"
      ],
      "text/plain": [
       "     Rank                         Country  Players       Points    Number  \\\n",
       "1       1                   United States    59698  52132889.98  84410455   \n",
       "2       2              Russian Federation    31058  24753943.31  37279292   \n",
       "3       3                         Germany    21750  18214362.15  28423805   \n",
       "4       4  United Kingdom (Great Britain)    16225  15635912.83  25101789   \n",
       "5       5                          Canada    12483  10999031.70  17436104   \n",
       "..    ...                             ...      ...          ...       ...   \n",
       "248   248                      Mauritania       10      3231.50      5663   \n",
       "249   249                   French Guiana        7      2587.67      5310   \n",
       "250   250                        Anguilla       14      2089.76      4749   \n",
       "251   251            Moldova, Republic of        2       617.02       752   \n",
       "252   252                      Yugoslavia        1         0.54         1   \n",
       "\n",
       "        Games   Badges         XP        Hours  \n",
       "1    20379201  2569218  974895706  236137390.5  \n",
       "2     7247856  1657378  693424533  104656082.0  \n",
       "3     6658939  1381807  590848431   86523185.4  \n",
       "4     5780703   786975  294574732   68131144.6  \n",
       "5     4012880   606502  239174494   49354715.3  \n",
       "..        ...      ...        ...          ...  \n",
       "248       788      144      43292      24574.4  \n",
       "249      1100       81      16709      20665.0  \n",
       "250       626      116      21427      18169.2  \n",
       "251       129      116      17486       1939.9  \n",
       "252         3        2        156         13.9  \n",
       "\n",
       "[252 rows x 9 columns]"
      ]
     },
     "execution_count": 159,
     "metadata": {},
     "output_type": "execute_result"
    }
   ],
   "source": [
    "# remove \"Unknown\" country so we can view data for each individual country\n",
    "# \"Unknown\" could contain results from many different countries\n",
    "\n",
    "cleaned_country_df = country_data.iloc[1:]\n",
    "\n",
    "cleaned_country_df"
   ]
  },
  {
   "cell_type": "code",
   "execution_count": 160,
   "metadata": {},
   "outputs": [
    {
     "data": {
      "text/html": [
       "<div>\n",
       "<style scoped>\n",
       "    .dataframe tbody tr th:only-of-type {\n",
       "        vertical-align: middle;\n",
       "    }\n",
       "\n",
       "    .dataframe tbody tr th {\n",
       "        vertical-align: top;\n",
       "    }\n",
       "\n",
       "    .dataframe thead th {\n",
       "        text-align: right;\n",
       "    }\n",
       "</style>\n",
       "<table border=\"1\" class=\"dataframe\">\n",
       "  <thead>\n",
       "    <tr style=\"text-align: right;\">\n",
       "      <th></th>\n",
       "      <th>Rank</th>\n",
       "      <th>Country</th>\n",
       "      <th>Players</th>\n",
       "      <th>Points</th>\n",
       "      <th>Number</th>\n",
       "      <th>Games</th>\n",
       "      <th>Badges</th>\n",
       "      <th>XP</th>\n",
       "      <th>Hours</th>\n",
       "    </tr>\n",
       "  </thead>\n",
       "  <tbody>\n",
       "    <tr>\n",
       "      <th>1</th>\n",
       "      <td>1</td>\n",
       "      <td>United States</td>\n",
       "      <td>59698</td>\n",
       "      <td>52132889.98</td>\n",
       "      <td>84410455</td>\n",
       "      <td>20379201</td>\n",
       "      <td>2569218</td>\n",
       "      <td>974895706</td>\n",
       "      <td>236137390.5</td>\n",
       "    </tr>\n",
       "    <tr>\n",
       "      <th>2</th>\n",
       "      <td>2</td>\n",
       "      <td>Russian Federation</td>\n",
       "      <td>31058</td>\n",
       "      <td>24753943.31</td>\n",
       "      <td>37279292</td>\n",
       "      <td>7247856</td>\n",
       "      <td>1657378</td>\n",
       "      <td>693424533</td>\n",
       "      <td>104656082.0</td>\n",
       "    </tr>\n",
       "    <tr>\n",
       "      <th>3</th>\n",
       "      <td>3</td>\n",
       "      <td>Germany</td>\n",
       "      <td>21750</td>\n",
       "      <td>18214362.15</td>\n",
       "      <td>28423805</td>\n",
       "      <td>6658939</td>\n",
       "      <td>1381807</td>\n",
       "      <td>590848431</td>\n",
       "      <td>86523185.4</td>\n",
       "    </tr>\n",
       "    <tr>\n",
       "      <th>4</th>\n",
       "      <td>4</td>\n",
       "      <td>United Kingdom (Great Britain)</td>\n",
       "      <td>16225</td>\n",
       "      <td>15635912.83</td>\n",
       "      <td>25101789</td>\n",
       "      <td>5780703</td>\n",
       "      <td>786975</td>\n",
       "      <td>294574732</td>\n",
       "      <td>68131144.6</td>\n",
       "    </tr>\n",
       "    <tr>\n",
       "      <th>5</th>\n",
       "      <td>5</td>\n",
       "      <td>Canada</td>\n",
       "      <td>12483</td>\n",
       "      <td>10999031.70</td>\n",
       "      <td>17436104</td>\n",
       "      <td>4012880</td>\n",
       "      <td>606502</td>\n",
       "      <td>239174494</td>\n",
       "      <td>49354715.3</td>\n",
       "    </tr>\n",
       "    <tr>\n",
       "      <th>6</th>\n",
       "      <td>6</td>\n",
       "      <td>China</td>\n",
       "      <td>15605</td>\n",
       "      <td>10847234.66</td>\n",
       "      <td>17138407</td>\n",
       "      <td>6168652</td>\n",
       "      <td>1100485</td>\n",
       "      <td>506417923</td>\n",
       "      <td>54823363.8</td>\n",
       "    </tr>\n",
       "    <tr>\n",
       "      <th>7</th>\n",
       "      <td>7</td>\n",
       "      <td>Brazil</td>\n",
       "      <td>15569</td>\n",
       "      <td>10136859.28</td>\n",
       "      <td>16173137</td>\n",
       "      <td>3918546</td>\n",
       "      <td>774781</td>\n",
       "      <td>247132541</td>\n",
       "      <td>54157619.5</td>\n",
       "    </tr>\n",
       "    <tr>\n",
       "      <th>8</th>\n",
       "      <td>8</td>\n",
       "      <td>Poland</td>\n",
       "      <td>11358</td>\n",
       "      <td>9085626.49</td>\n",
       "      <td>13802221</td>\n",
       "      <td>3123884</td>\n",
       "      <td>523117</td>\n",
       "      <td>178278957</td>\n",
       "      <td>39163756.6</td>\n",
       "    </tr>\n",
       "    <tr>\n",
       "      <th>9</th>\n",
       "      <td>9</td>\n",
       "      <td>Japan</td>\n",
       "      <td>9548</td>\n",
       "      <td>8802348.47</td>\n",
       "      <td>13143190</td>\n",
       "      <td>3328328</td>\n",
       "      <td>698257</td>\n",
       "      <td>265270862</td>\n",
       "      <td>38756414.3</td>\n",
       "    </tr>\n",
       "    <tr>\n",
       "      <th>10</th>\n",
       "      <td>10</td>\n",
       "      <td>France</td>\n",
       "      <td>7675</td>\n",
       "      <td>7817051.60</td>\n",
       "      <td>11611862</td>\n",
       "      <td>2362871</td>\n",
       "      <td>384431</td>\n",
       "      <td>130107826</td>\n",
       "      <td>29692105.0</td>\n",
       "    </tr>\n",
       "  </tbody>\n",
       "</table>\n",
       "</div>"
      ],
      "text/plain": [
       "    Rank                         Country  Players       Points    Number  \\\n",
       "1      1                   United States    59698  52132889.98  84410455   \n",
       "2      2              Russian Federation    31058  24753943.31  37279292   \n",
       "3      3                         Germany    21750  18214362.15  28423805   \n",
       "4      4  United Kingdom (Great Britain)    16225  15635912.83  25101789   \n",
       "5      5                          Canada    12483  10999031.70  17436104   \n",
       "6      6                           China    15605  10847234.66  17138407   \n",
       "7      7                          Brazil    15569  10136859.28  16173137   \n",
       "8      8                          Poland    11358   9085626.49  13802221   \n",
       "9      9                           Japan     9548   8802348.47  13143190   \n",
       "10    10                          France     7675   7817051.60  11611862   \n",
       "\n",
       "       Games   Badges         XP        Hours  \n",
       "1   20379201  2569218  974895706  236137390.5  \n",
       "2    7247856  1657378  693424533  104656082.0  \n",
       "3    6658939  1381807  590848431   86523185.4  \n",
       "4    5780703   786975  294574732   68131144.6  \n",
       "5    4012880   606502  239174494   49354715.3  \n",
       "6    6168652  1100485  506417923   54823363.8  \n",
       "7    3918546   774781  247132541   54157619.5  \n",
       "8    3123884   523117  178278957   39163756.6  \n",
       "9    3328328   698257  265270862   38756414.3  \n",
       "10   2362871   384431  130107826   29692105.0  "
      ]
     },
     "execution_count": 160,
     "metadata": {},
     "output_type": "execute_result"
    }
   ],
   "source": [
    "# view top 10 countries\n",
    "\n",
    "top_10_df = cleaned_country_df.iloc[0:10]\n",
    "\n",
    "top_10_df"
   ]
  },
  {
   "cell_type": "code",
   "execution_count": 161,
   "metadata": {},
   "outputs": [
    {
     "data": {
      "text/plain": [
       "<matplotlib.axes._subplots.AxesSubplot at 0x149b7987208>"
      ]
     },
     "execution_count": 161,
     "metadata": {},
     "output_type": "execute_result"
    },
    {
     "data": {
      "image/png": "[encoded data removed]",
      "text/plain": [
       "<Figure size 432x288 with 1 Axes>"
      ]
     },
     "metadata": {
      "needs_background": "light"
     },
     "output_type": "display_data"
    }
   ],
   "source": [
    "# view number of players for top 10 countries\n",
    "\n",
    "top_10_df.plot(x=\"Country\", y=\"Players\", kind=\"bar\")"
   ]
  },
  {
   "cell_type": "code",
   "execution_count": 162,
   "metadata": {},
   "outputs": [
    {
     "data": {
      "text/plain": [
       "<matplotlib.axes._subplots.AxesSubplot at 0x149b7a2d288>"
      ]
     },
     "execution_count": 162,
     "metadata": {},
     "output_type": "execute_result"
    },
    {
     "data": {
      "image/png": "[encoded data removed]",
      "text/plain": [
       "<Figure size 432x288 with 1 Axes>"
      ]
     },
     "metadata": {
      "needs_background": "light"
     },
     "output_type": "display_data"
    }
   ],
   "source": [
    "# view points for top 10 countries\n",
    "\n",
    "top_10_df.plot(x=\"Country\", y=\"Points\", kind=\"bar\")"
   ]
  },
  {
   "cell_type": "code",
   "execution_count": 163,
   "metadata": {},
   "outputs": [
    {
     "name": "stdout",
     "output_type": "stream",
     "text": [
      "0 Rank\n",
      "1 Country\n",
      "2 Players\n",
      "3 Points\n",
      "4 Number\n",
      "5 Games\n",
      "6 Badges\n",
      "7 XP\n",
      "8 Hours\n"
     ]
    },
    {
     "data": {
      "text/html": [
       "<div>\n",
       "<style scoped>\n",
       "    .dataframe tbody tr th:only-of-type {\n",
       "        vertical-align: middle;\n",
       "    }\n",
       "\n",
       "    .dataframe tbody tr th {\n",
       "        vertical-align: top;\n",
       "    }\n",
       "\n",
       "    .dataframe thead th {\n",
       "        text-align: right;\n",
       "    }\n",
       "</style>\n",
       "<table border=\"1\" class=\"dataframe\">\n",
       "  <thead>\n",
       "    <tr style=\"text-align: right;\">\n",
       "      <th></th>\n",
       "      <th>Rank</th>\n",
       "      <th>Country</th>\n",
       "      <th>Players</th>\n",
       "      <th>Points_avg</th>\n",
       "      <th>Number_avg</th>\n",
       "      <th>Games_avg</th>\n",
       "      <th>Badges_avg</th>\n",
       "      <th>XP_avg</th>\n",
       "      <th>Hours_avg</th>\n",
       "    </tr>\n",
       "  </thead>\n",
       "  <tbody>\n",
       "    <tr>\n",
       "      <th>1</th>\n",
       "      <td>1</td>\n",
       "      <td>United States</td>\n",
       "      <td>59698</td>\n",
       "      <td>873.276994</td>\n",
       "      <td>1413.957838</td>\n",
       "      <td>341.371587</td>\n",
       "      <td>43.036919</td>\n",
       "      <td>16330.458407</td>\n",
       "      <td>3955.532690</td>\n",
       "    </tr>\n",
       "    <tr>\n",
       "      <th>2</th>\n",
       "      <td>2</td>\n",
       "      <td>Russian Federation</td>\n",
       "      <td>31058</td>\n",
       "      <td>797.023096</td>\n",
       "      <td>1200.312061</td>\n",
       "      <td>233.365188</td>\n",
       "      <td>53.363964</td>\n",
       "      <td>22326.760674</td>\n",
       "      <td>3369.698049</td>\n",
       "    </tr>\n",
       "    <tr>\n",
       "      <th>3</th>\n",
       "      <td>3</td>\n",
       "      <td>Germany</td>\n",
       "      <td>21750</td>\n",
       "      <td>837.441938</td>\n",
       "      <td>1306.841609</td>\n",
       "      <td>306.158115</td>\n",
       "      <td>63.531356</td>\n",
       "      <td>27165.445103</td>\n",
       "      <td>3978.077490</td>\n",
       "    </tr>\n",
       "    <tr>\n",
       "      <th>4</th>\n",
       "      <td>4</td>\n",
       "      <td>United Kingdom (Great Britain)</td>\n",
       "      <td>16225</td>\n",
       "      <td>963.692624</td>\n",
       "      <td>1547.105639</td>\n",
       "      <td>356.283698</td>\n",
       "      <td>48.503852</td>\n",
       "      <td>18155.607519</td>\n",
       "      <td>4199.146046</td>\n",
       "    </tr>\n",
       "    <tr>\n",
       "      <th>5</th>\n",
       "      <td>5</td>\n",
       "      <td>Canada</td>\n",
       "      <td>12483</td>\n",
       "      <td>881.120860</td>\n",
       "      <td>1396.787952</td>\n",
       "      <td>321.467596</td>\n",
       "      <td>48.586237</td>\n",
       "      <td>19160.017143</td>\n",
       "      <td>3953.754330</td>\n",
       "    </tr>\n",
       "    <tr>\n",
       "      <th>...</th>\n",
       "      <td>...</td>\n",
       "      <td>...</td>\n",
       "      <td>...</td>\n",
       "      <td>...</td>\n",
       "      <td>...</td>\n",
       "      <td>...</td>\n",
       "      <td>...</td>\n",
       "      <td>...</td>\n",
       "      <td>...</td>\n",
       "    </tr>\n",
       "    <tr>\n",
       "      <th>248</th>\n",
       "      <td>248</td>\n",
       "      <td>Mauritania</td>\n",
       "      <td>10</td>\n",
       "      <td>323.150000</td>\n",
       "      <td>566.300000</td>\n",
       "      <td>78.800000</td>\n",
       "      <td>14.400000</td>\n",
       "      <td>4329.200000</td>\n",
       "      <td>2457.440000</td>\n",
       "    </tr>\n",
       "    <tr>\n",
       "      <th>249</th>\n",
       "      <td>249</td>\n",
       "      <td>French Guiana</td>\n",
       "      <td>7</td>\n",
       "      <td>369.667143</td>\n",
       "      <td>758.571429</td>\n",
       "      <td>157.142857</td>\n",
       "      <td>11.571429</td>\n",
       "      <td>2387.000000</td>\n",
       "      <td>2952.142857</td>\n",
       "    </tr>\n",
       "    <tr>\n",
       "      <th>250</th>\n",
       "      <td>250</td>\n",
       "      <td>Anguilla</td>\n",
       "      <td>14</td>\n",
       "      <td>149.268571</td>\n",
       "      <td>339.214286</td>\n",
       "      <td>44.714286</td>\n",
       "      <td>8.285714</td>\n",
       "      <td>1530.500000</td>\n",
       "      <td>1297.800000</td>\n",
       "    </tr>\n",
       "    <tr>\n",
       "      <th>251</th>\n",
       "      <td>251</td>\n",
       "      <td>Moldova, Republic of</td>\n",
       "      <td>2</td>\n",
       "      <td>308.510000</td>\n",
       "      <td>376.000000</td>\n",
       "      <td>64.500000</td>\n",
       "      <td>58.000000</td>\n",
       "      <td>8743.000000</td>\n",
       "      <td>969.950000</td>\n",
       "    </tr>\n",
       "    <tr>\n",
       "      <th>252</th>\n",
       "      <td>252</td>\n",
       "      <td>Yugoslavia</td>\n",
       "      <td>1</td>\n",
       "      <td>0.540000</td>\n",
       "      <td>1.000000</td>\n",
       "      <td>3.000000</td>\n",
       "      <td>2.000000</td>\n",
       "      <td>156.000000</td>\n",
       "      <td>13.900000</td>\n",
       "    </tr>\n",
       "  </tbody>\n",
       "</table>\n",
       "<p>252 rows × 9 columns</p>\n",
       "</div>"
      ],
      "text/plain": [
       "     Rank                         Country  Players  Points_avg   Number_avg  \\\n",
       "1       1                   United States    59698  873.276994  1413.957838   \n",
       "2       2              Russian Federation    31058  797.023096  1200.312061   \n",
       "3       3                         Germany    21750  837.441938  1306.841609   \n",
       "4       4  United Kingdom (Great Britain)    16225  963.692624  1547.105639   \n",
       "5       5                          Canada    12483  881.120860  1396.787952   \n",
       "..    ...                             ...      ...         ...          ...   \n",
       "248   248                      Mauritania       10  323.150000   566.300000   \n",
       "249   249                   French Guiana        7  369.667143   758.571429   \n",
       "250   250                        Anguilla       14  149.268571   339.214286   \n",
       "251   251            Moldova, Republic of        2  308.510000   376.000000   \n",
       "252   252                      Yugoslavia        1    0.540000     1.000000   \n",
       "\n",
       "      Games_avg  Badges_avg        XP_avg    Hours_avg  \n",
       "1    341.371587   43.036919  16330.458407  3955.532690  \n",
       "2    233.365188   53.363964  22326.760674  3369.698049  \n",
       "3    306.158115   63.531356  27165.445103  3978.077490  \n",
       "4    356.283698   48.503852  18155.607519  4199.146046  \n",
       "5    321.467596   48.586237  19160.017143  3953.754330  \n",
       "..          ...         ...           ...          ...  \n",
       "248   78.800000   14.400000   4329.200000  2457.440000  \n",
       "249  157.142857   11.571429   2387.000000  2952.142857  \n",
       "250   44.714286    8.285714   1530.500000  1297.800000  \n",
       "251   64.500000   58.000000   8743.000000   969.950000  \n",
       "252    3.000000    2.000000    156.000000    13.900000  \n",
       "\n",
       "[252 rows x 9 columns]"
      ]
     },
     "execution_count": 163,
     "metadata": {},
     "output_type": "execute_result"
    }
   ],
   "source": [
    "# create df that shows the values averaged by player count for each country\n",
    "player_avg_df = cleaned_country_df.copy()\n",
    "player_avg_df.columns\n",
    "for i, column in enumerate(player_avg_df.columns):\n",
    "    if(i > 2):\n",
    "        player_avg_df[column + \"_avg\"] = player_avg_df[column] / player_avg_df[\"Players\"]\n",
    "        del player_avg_df[column]\n",
    "    print(i, column)\n",
    "player_avg_df"
   ]
  },
  {
   "cell_type": "markdown",
   "metadata": {},
   "source": [
    "The above numbers seem relatively high (over 341 games per player, and almost 4k hours per player in the US alone) - this is likely due to the averages being a little skewed by large values for the very top players, although it does represent a player with a ranking of around 100k (because the dataset includes rankings from 1 to 200k)\n",
    "\n",
    "This might be reasonable, because at the time of writing (9/17/2022) I (gendotti) personally have a ranking of ~159k and have 158 games and ~1900 hours put into Steam, so a player ranked around 100k would likely have more games, hours, etc.\n",
    "\n",
    "Cleaning the data by removing individual player outliers from the data is recommended (see the other data set)"
   ]
  },
  {
   "cell_type": "code",
   "execution_count": 164,
   "metadata": {},
   "outputs": [
    {
     "data": {
      "text/html": [
       "<div>\n",
       "<style scoped>\n",
       "    .dataframe tbody tr th:only-of-type {\n",
       "        vertical-align: middle;\n",
       "    }\n",
       "\n",
       "    .dataframe tbody tr th {\n",
       "        vertical-align: top;\n",
       "    }\n",
       "\n",
       "    .dataframe thead th {\n",
       "        text-align: right;\n",
       "    }\n",
       "</style>\n",
       "<table border=\"1\" class=\"dataframe\">\n",
       "  <thead>\n",
       "    <tr style=\"text-align: right;\">\n",
       "      <th></th>\n",
       "      <th>Rank</th>\n",
       "      <th>Country</th>\n",
       "      <th>Players</th>\n",
       "      <th>Points_avg</th>\n",
       "      <th>Number_avg</th>\n",
       "      <th>Games_avg</th>\n",
       "      <th>Badges_avg</th>\n",
       "      <th>XP_avg</th>\n",
       "      <th>Hours_avg</th>\n",
       "    </tr>\n",
       "  </thead>\n",
       "  <tbody>\n",
       "    <tr>\n",
       "      <th>236</th>\n",
       "      <td>236</td>\n",
       "      <td>Sao Tome &amp; Principe</td>\n",
       "      <td>13</td>\n",
       "      <td>601.781538</td>\n",
       "      <td>862.538462</td>\n",
       "      <td>85.538462</td>\n",
       "      <td>21.230769</td>\n",
       "      <td>7398.461538</td>\n",
       "      <td>69578.584615</td>\n",
       "    </tr>\n",
       "    <tr>\n",
       "      <th>140</th>\n",
       "      <td>140</td>\n",
       "      <td>St. Helena</td>\n",
       "      <td>48</td>\n",
       "      <td>888.435000</td>\n",
       "      <td>1425.854167</td>\n",
       "      <td>230.937500</td>\n",
       "      <td>58.958333</td>\n",
       "      <td>23510.291667</td>\n",
       "      <td>13225.750000</td>\n",
       "    </tr>\n",
       "    <tr>\n",
       "      <th>242</th>\n",
       "      <td>242</td>\n",
       "      <td>Martinique</td>\n",
       "      <td>22</td>\n",
       "      <td>322.005909</td>\n",
       "      <td>557.090909</td>\n",
       "      <td>86.590909</td>\n",
       "      <td>36.681818</td>\n",
       "      <td>12629.636364</td>\n",
       "      <td>11198.181818</td>\n",
       "    </tr>\n",
       "    <tr>\n",
       "      <th>167</th>\n",
       "      <td>167</td>\n",
       "      <td>San Marino</td>\n",
       "      <td>63</td>\n",
       "      <td>480.893016</td>\n",
       "      <td>814.492063</td>\n",
       "      <td>208.730159</td>\n",
       "      <td>63.095238</td>\n",
       "      <td>24353.650794</td>\n",
       "      <td>10478.596825</td>\n",
       "    </tr>\n",
       "    <tr>\n",
       "      <th>115</th>\n",
       "      <td>115</td>\n",
       "      <td>Macau</td>\n",
       "      <td>73</td>\n",
       "      <td>987.758767</td>\n",
       "      <td>1464.479452</td>\n",
       "      <td>591.698630</td>\n",
       "      <td>75.273973</td>\n",
       "      <td>32493.986301</td>\n",
       "      <td>9659.384932</td>\n",
       "    </tr>\n",
       "    <tr>\n",
       "      <th>243</th>\n",
       "      <td>243</td>\n",
       "      <td>Lesotho</td>\n",
       "      <td>11</td>\n",
       "      <td>610.923636</td>\n",
       "      <td>951.000000</td>\n",
       "      <td>120.727273</td>\n",
       "      <td>27.818182</td>\n",
       "      <td>7153.090909</td>\n",
       "      <td>6865.900000</td>\n",
       "    </tr>\n",
       "    <tr>\n",
       "      <th>150</th>\n",
       "      <td>150</td>\n",
       "      <td>Svalbard &amp; Jan Mayen Islands</td>\n",
       "      <td>39</td>\n",
       "      <td>923.607949</td>\n",
       "      <td>1420.000000</td>\n",
       "      <td>268.410256</td>\n",
       "      <td>42.410256</td>\n",
       "      <td>20961.923077</td>\n",
       "      <td>5684.125641</td>\n",
       "    </tr>\n",
       "    <tr>\n",
       "      <th>168</th>\n",
       "      <td>168</td>\n",
       "      <td>British Indian Ocean Territory</td>\n",
       "      <td>53</td>\n",
       "      <td>564.409245</td>\n",
       "      <td>947.301887</td>\n",
       "      <td>144.773585</td>\n",
       "      <td>33.679245</td>\n",
       "      <td>13479.150943</td>\n",
       "      <td>5635.720755</td>\n",
       "    </tr>\n",
       "    <tr>\n",
       "      <th>137</th>\n",
       "      <td>137</td>\n",
       "      <td>Reunion</td>\n",
       "      <td>55</td>\n",
       "      <td>842.504545</td>\n",
       "      <td>1365.109091</td>\n",
       "      <td>287.272727</td>\n",
       "      <td>58.709091</td>\n",
       "      <td>19923.527273</td>\n",
       "      <td>5547.938182</td>\n",
       "    </tr>\n",
       "    <tr>\n",
       "      <th>246</th>\n",
       "      <td>246</td>\n",
       "      <td>Comoros</td>\n",
       "      <td>10</td>\n",
       "      <td>430.317000</td>\n",
       "      <td>743.000000</td>\n",
       "      <td>421.300000</td>\n",
       "      <td>21.600000</td>\n",
       "      <td>6576.500000</td>\n",
       "      <td>5536.820000</td>\n",
       "    </tr>\n",
       "  </tbody>\n",
       "</table>\n",
       "</div>"
      ],
      "text/plain": [
       "     Rank                         Country  Players  Points_avg   Number_avg  \\\n",
       "236   236             Sao Tome & Principe       13  601.781538   862.538462   \n",
       "140   140                      St. Helena       48  888.435000  1425.854167   \n",
       "242   242                      Martinique       22  322.005909   557.090909   \n",
       "167   167                      San Marino       63  480.893016   814.492063   \n",
       "115   115                           Macau       73  987.758767  1464.479452   \n",
       "243   243                         Lesotho       11  610.923636   951.000000   \n",
       "150   150    Svalbard & Jan Mayen Islands       39  923.607949  1420.000000   \n",
       "168   168  British Indian Ocean Territory       53  564.409245   947.301887   \n",
       "137   137                         Reunion       55  842.504545  1365.109091   \n",
       "246   246                         Comoros       10  430.317000   743.000000   \n",
       "\n",
       "      Games_avg  Badges_avg        XP_avg     Hours_avg  \n",
       "236   85.538462   21.230769   7398.461538  69578.584615  \n",
       "140  230.937500   58.958333  23510.291667  13225.750000  \n",
       "242   86.590909   36.681818  12629.636364  11198.181818  \n",
       "167  208.730159   63.095238  24353.650794  10478.596825  \n",
       "115  591.698630   75.273973  32493.986301   9659.384932  \n",
       "243  120.727273   27.818182   7153.090909   6865.900000  \n",
       "150  268.410256   42.410256  20961.923077   5684.125641  \n",
       "168  144.773585   33.679245  13479.150943   5635.720755  \n",
       "137  287.272727   58.709091  19923.527273   5547.938182  \n",
       "246  421.300000   21.600000   6576.500000   5536.820000  "
      ]
     },
     "execution_count": 164,
     "metadata": {},
     "output_type": "execute_result"
    }
   ],
   "source": [
    "# show the top 10 countries by hours per player\n",
    "# to determine which countries have the most \"hardcore\" gamers\n",
    "top_10_hours_per_player_df = player_avg_df.sort_values(by=\"Hours_avg\", ascending=False)\n",
    "\n",
    "top_10_hours_per_player_df = top_10_hours_per_player_df.iloc[0:10]\n",
    "\n",
    "top_10_hours_per_player_df"
   ]
  },
  {
   "cell_type": "code",
   "execution_count": 165,
   "metadata": {},
   "outputs": [
    {
     "data": {
      "text/plain": [
       "<matplotlib.axes._subplots.AxesSubplot at 0x149b7ad9b48>"
      ]
     },
     "execution_count": 165,
     "metadata": {},
     "output_type": "execute_result"
    },
    {
     "data": {
      "image/png": "[encoded data removed]",
      "text/plain": [
       "<Figure size 432x288 with 1 Axes>"
      ]
     },
     "metadata": {
      "needs_background": "light"
     },
     "output_type": "display_data"
    }
   ],
   "source": [
    "top_10_hours_per_player_df.plot(kind=\"bar\", x=\"Country\", y=\"Hours_avg\")"
   ]
  },
  {
   "cell_type": "markdown",
   "metadata": {},
   "source": [
    "It looks like there are some players who found a glitch or exploit in the system to increase their hours, because it is unlikely that they spent 70k hours on steam on average in Sao Tome & Principe\n",
    "\n",
    "The rest of the values still look high, but they are likely related to the countries all being relatively small, with small gamer communities that use Steam, and the players all acting the same way within those small, isolated communities. For example, they could be in a guild together (the largest player count for these countries is 73), and play the same or similar games at the same time. This would result in their profiles looking similar from a statistics viewpoint, and would be relatively easy to verify if we had individual data for each player within a country, because we could look at measures of variation within the population of hours, number of games, etc., and look at which individual games and achievements are common within that country."
   ]
  },
  {
   "cell_type": "code",
   "execution_count": 166,
   "metadata": {},
   "outputs": [
    {
     "data": {
      "text/html": [
       "<div>\n",
       "<style scoped>\n",
       "    .dataframe tbody tr th:only-of-type {\n",
       "        vertical-align: middle;\n",
       "    }\n",
       "\n",
       "    .dataframe tbody tr th {\n",
       "        vertical-align: top;\n",
       "    }\n",
       "\n",
       "    .dataframe thead th {\n",
       "        text-align: right;\n",
       "    }\n",
       "</style>\n",
       "<table border=\"1\" class=\"dataframe\">\n",
       "  <thead>\n",
       "    <tr style=\"text-align: right;\">\n",
       "      <th></th>\n",
       "      <th>Rank</th>\n",
       "      <th>Country</th>\n",
       "      <th>Players</th>\n",
       "      <th>Hours</th>\n",
       "      <th>Points_avg</th>\n",
       "      <th>Number_avg</th>\n",
       "      <th>Games_avg</th>\n",
       "      <th>Badges_avg</th>\n",
       "      <th>XP_avg</th>\n",
       "    </tr>\n",
       "  </thead>\n",
       "  <tbody>\n",
       "    <tr>\n",
       "      <th>1</th>\n",
       "      <td>1</td>\n",
       "      <td>United States</td>\n",
       "      <td>59698</td>\n",
       "      <td>236137390.5</td>\n",
       "      <td>0.220774</td>\n",
       "      <td>0.357463</td>\n",
       "      <td>0.086302</td>\n",
       "      <td>0.010880</td>\n",
       "      <td>4.128511</td>\n",
       "    </tr>\n",
       "    <tr>\n",
       "      <th>2</th>\n",
       "      <td>2</td>\n",
       "      <td>Russian Federation</td>\n",
       "      <td>31058</td>\n",
       "      <td>104656082.0</td>\n",
       "      <td>0.236527</td>\n",
       "      <td>0.356208</td>\n",
       "      <td>0.069254</td>\n",
       "      <td>0.015836</td>\n",
       "      <td>6.625745</td>\n",
       "    </tr>\n",
       "    <tr>\n",
       "      <th>3</th>\n",
       "      <td>3</td>\n",
       "      <td>Germany</td>\n",
       "      <td>21750</td>\n",
       "      <td>86523185.4</td>\n",
       "      <td>0.210514</td>\n",
       "      <td>0.328511</td>\n",
       "      <td>0.076961</td>\n",
       "      <td>0.015970</td>\n",
       "      <td>6.828787</td>\n",
       "    </tr>\n",
       "    <tr>\n",
       "      <th>4</th>\n",
       "      <td>4</td>\n",
       "      <td>United Kingdom (Great Britain)</td>\n",
       "      <td>16225</td>\n",
       "      <td>68131144.6</td>\n",
       "      <td>0.229497</td>\n",
       "      <td>0.368433</td>\n",
       "      <td>0.084847</td>\n",
       "      <td>0.011551</td>\n",
       "      <td>4.323643</td>\n",
       "    </tr>\n",
       "    <tr>\n",
       "      <th>5</th>\n",
       "      <td>5</td>\n",
       "      <td>Canada</td>\n",
       "      <td>12483</td>\n",
       "      <td>49354715.3</td>\n",
       "      <td>0.222857</td>\n",
       "      <td>0.353281</td>\n",
       "      <td>0.081307</td>\n",
       "      <td>0.012289</td>\n",
       "      <td>4.846031</td>\n",
       "    </tr>\n",
       "    <tr>\n",
       "      <th>...</th>\n",
       "      <td>...</td>\n",
       "      <td>...</td>\n",
       "      <td>...</td>\n",
       "      <td>...</td>\n",
       "      <td>...</td>\n",
       "      <td>...</td>\n",
       "      <td>...</td>\n",
       "      <td>...</td>\n",
       "      <td>...</td>\n",
       "    </tr>\n",
       "    <tr>\n",
       "      <th>248</th>\n",
       "      <td>248</td>\n",
       "      <td>Mauritania</td>\n",
       "      <td>10</td>\n",
       "      <td>24574.4</td>\n",
       "      <td>0.131499</td>\n",
       "      <td>0.230443</td>\n",
       "      <td>0.032066</td>\n",
       "      <td>0.005860</td>\n",
       "      <td>1.761671</td>\n",
       "    </tr>\n",
       "    <tr>\n",
       "      <th>249</th>\n",
       "      <td>249</td>\n",
       "      <td>French Guiana</td>\n",
       "      <td>7</td>\n",
       "      <td>20665.0</td>\n",
       "      <td>0.125220</td>\n",
       "      <td>0.256956</td>\n",
       "      <td>0.053230</td>\n",
       "      <td>0.003920</td>\n",
       "      <td>0.808565</td>\n",
       "    </tr>\n",
       "    <tr>\n",
       "      <th>250</th>\n",
       "      <td>250</td>\n",
       "      <td>Anguilla</td>\n",
       "      <td>14</td>\n",
       "      <td>18169.2</td>\n",
       "      <td>0.115017</td>\n",
       "      <td>0.261376</td>\n",
       "      <td>0.034454</td>\n",
       "      <td>0.006384</td>\n",
       "      <td>1.179303</td>\n",
       "    </tr>\n",
       "    <tr>\n",
       "      <th>251</th>\n",
       "      <td>251</td>\n",
       "      <td>Moldova, Republic of</td>\n",
       "      <td>2</td>\n",
       "      <td>1939.9</td>\n",
       "      <td>0.318068</td>\n",
       "      <td>0.387649</td>\n",
       "      <td>0.066498</td>\n",
       "      <td>0.059797</td>\n",
       "      <td>9.013867</td>\n",
       "    </tr>\n",
       "    <tr>\n",
       "      <th>252</th>\n",
       "      <td>252</td>\n",
       "      <td>Yugoslavia</td>\n",
       "      <td>1</td>\n",
       "      <td>13.9</td>\n",
       "      <td>0.038849</td>\n",
       "      <td>0.071942</td>\n",
       "      <td>0.215827</td>\n",
       "      <td>0.143885</td>\n",
       "      <td>11.223022</td>\n",
       "    </tr>\n",
       "  </tbody>\n",
       "</table>\n",
       "<p>252 rows × 9 columns</p>\n",
       "</div>"
      ],
      "text/plain": [
       "     Rank                         Country  Players        Hours  Points_avg  \\\n",
       "1       1                   United States    59698  236137390.5    0.220774   \n",
       "2       2              Russian Federation    31058  104656082.0    0.236527   \n",
       "3       3                         Germany    21750   86523185.4    0.210514   \n",
       "4       4  United Kingdom (Great Britain)    16225   68131144.6    0.229497   \n",
       "5       5                          Canada    12483   49354715.3    0.222857   \n",
       "..    ...                             ...      ...          ...         ...   \n",
       "248   248                      Mauritania       10      24574.4    0.131499   \n",
       "249   249                   French Guiana        7      20665.0    0.125220   \n",
       "250   250                        Anguilla       14      18169.2    0.115017   \n",
       "251   251            Moldova, Republic of        2       1939.9    0.318068   \n",
       "252   252                      Yugoslavia        1         13.9    0.038849   \n",
       "\n",
       "     Number_avg  Games_avg  Badges_avg     XP_avg  \n",
       "1      0.357463   0.086302    0.010880   4.128511  \n",
       "2      0.356208   0.069254    0.015836   6.625745  \n",
       "3      0.328511   0.076961    0.015970   6.828787  \n",
       "4      0.368433   0.084847    0.011551   4.323643  \n",
       "5      0.353281   0.081307    0.012289   4.846031  \n",
       "..          ...        ...         ...        ...  \n",
       "248    0.230443   0.032066    0.005860   1.761671  \n",
       "249    0.256956   0.053230    0.003920   0.808565  \n",
       "250    0.261376   0.034454    0.006384   1.179303  \n",
       "251    0.387649   0.066498    0.059797   9.013867  \n",
       "252    0.071942   0.215827    0.143885  11.223022  \n",
       "\n",
       "[252 rows x 9 columns]"
      ]
     },
     "execution_count": 166,
     "metadata": {},
     "output_type": "execute_result"
    }
   ],
   "source": [
    "# create df that shows the values averaged by hours for each country\n",
    "# other than player count\n",
    "hour_avg_df = cleaned_country_df.copy()\n",
    "hour_avg_df.columns\n",
    "for i, column in enumerate(hour_avg_df.columns):\n",
    "    if(column not in set([\"Rank\", \"Country\", \"Players\", \"Hours\"])):\n",
    "        hour_avg_df[column + \"_avg\"] = hour_avg_df[column] / hour_avg_df[\"Hours\"]\n",
    "        del hour_avg_df[column]\n",
    "hour_avg_df"
   ]
  },
  {
   "cell_type": "code",
   "execution_count": 167,
   "metadata": {},
   "outputs": [
    {
     "data": {
      "image/png": "[encoded data removed]",
      "text/plain": [
       "<Figure size 432x288 with 1 Axes>"
      ]
     },
     "metadata": {
      "needs_background": "light"
     },
     "output_type": "display_data"
    }
   ],
   "source": [
    "# scatterplot and linear regression for points vs. hours\n",
    "temp_axes1 = cleaned_country_df.plot(kind=\"scatter\", x=\"Hours\", \n",
    "                                       y=\"Points\", \n",
    "                                       title=\"Points vs. Hours\")"
   ]
  },
  {
   "cell_type": "code",
   "execution_count": 168,
   "metadata": {},
   "outputs": [
    {
     "name": "stdout",
     "output_type": "stream",
     "text": [
      "LinearRegression(fit_intercept=False)\n",
      "Weight coefficients:  [0.22099987]\n",
      "y-axis intercept:  0.0\n"
     ]
    }
   ],
   "source": [
    "point_per_hour_model = LinearRegression(fit_intercept=False)\n",
    "point_per_hour_model.fit([[a] for a in cleaned_country_df[\"Hours\"]], cleaned_country_df[\"Points\"])\n",
    "print(point_per_hour_model)\n",
    "print('Weight coefficients: ', point_per_hour_model.coef_)\n",
    "print('y-axis intercept: ', point_per_hour_model.intercept_) "
   ]
  },
  {
   "cell_type": "code",
   "execution_count": 169,
   "metadata": {},
   "outputs": [
    {
     "name": "stdout",
     "output_type": "stream",
     "text": [
      "R^2 for point_per_hour_model: 0.9964403559644708\n"
     ]
    }
   ],
   "source": [
    "# R^2 score (variance) for the linear regression model\n",
    "r2_achievement = point_per_hour_model.score([[a] for a in cleaned_country_df[\"Hours\"]], cleaned_country_df[\"Points\"])\n",
    "print(\"R^2 for point_per_hour_model: {}\".format(r2_achievement))"
   ]
  },
  {
   "cell_type": "code",
   "execution_count": 170,
   "metadata": {},
   "outputs": [
    {
     "name": "stdout",
     "output_type": "stream",
     "text": [
      "13.9 236137390.5\n"
     ]
    }
   ],
   "source": [
    "x_min = cleaned_country_df[\"Hours\"].min()\n",
    "x_max = cleaned_country_df[\"Hours\"].max()\n",
    "y_min = point_per_hour_model.predict([[x_min]])\n",
    "y_max = point_per_hour_model.predict([[x_max]])\n",
    "print(x_min, x_max)"
   ]
  },
  {
   "cell_type": "code",
   "execution_count": 171,
   "metadata": {},
   "outputs": [
    {
     "data": {
      "text/plain": [
       "[<matplotlib.lines.Line2D at 0x149b7c28088>]"
      ]
     },
     "execution_count": 171,
     "metadata": {},
     "output_type": "execute_result"
    },
    {
     "data": {
      "image/png": "[encoded data removed]",
      "text/plain": [
       "<Figure size 432x288 with 1 Axes>"
      ]
     },
     "metadata": {
      "needs_background": "light"
     },
     "output_type": "display_data"
    }
   ],
   "source": [
    "plt.scatter([[a] for a in cleaned_country_df[\"Hours\"]], cleaned_country_df[\"Points\"], c='blue')\n",
    "plt.plot([x_min, x_max], [y_min, y_max], c='red')"
   ]
  },
  {
   "cell_type": "code",
   "execution_count": 172,
   "metadata": {},
   "outputs": [
    {
     "data": {
      "image/png": "[encoded data removed]",
      "text/plain": [
       "<Figure size 432x288 with 1 Axes>"
      ]
     },
     "metadata": {
      "needs_background": "light"
     },
     "output_type": "display_data"
    }
   ],
   "source": [
    "# scatterplot and linear regression for # of achievements vs. hours\n",
    "temp_axes2 = cleaned_country_df.plot(kind=\"scatter\", x=\"Hours\", \n",
    "                                       y=\"Number\", \n",
    "                                       title=\"Achievements vs. Hours\")"
   ]
  },
  {
   "cell_type": "code",
   "execution_count": 173,
   "metadata": {},
   "outputs": [
    {
     "name": "stdout",
     "output_type": "stream",
     "text": [
      "LinearRegression(fit_intercept=False)\n",
      "Weight coefficients:  [0.35133893]\n",
      "y-axis intercept:  0.0\n"
     ]
    }
   ],
   "source": [
    "achievement_per_hour_model = LinearRegression(fit_intercept=False)\n",
    "achievement_per_hour_model.fit([[a] for a in cleaned_country_df[\"Hours\"]], cleaned_country_df[\"Number\"])\n",
    "print(achievement_per_hour_model)\n",
    "print('Weight coefficients: ', achievement_per_hour_model.coef_)\n",
    "print('y-axis intercept: ', achievement_per_hour_model.intercept_) "
   ]
  },
  {
   "cell_type": "code",
   "execution_count": 174,
   "metadata": {},
   "outputs": [
    {
     "name": "stdout",
     "output_type": "stream",
     "text": [
      "R^2 for achievement_per_hour_model: 0.9970610575397182\n"
     ]
    }
   ],
   "source": [
    "# R^2 score (variance) for the linear regression model\n",
    "r2_achievement = achievement_per_hour_model.score([[a] for a in cleaned_country_df[\"Hours\"]], cleaned_country_df[\"Number\"])\n",
    "print(\"R^2 for achievement_per_hour_model: {}\".format(r2_achievement))"
   ]
  },
  {
   "cell_type": "code",
   "execution_count": 175,
   "metadata": {},
   "outputs": [
    {
     "name": "stdout",
     "output_type": "stream",
     "text": [
      "13.9 236137390.5\n"
     ]
    }
   ],
   "source": [
    "x_min = cleaned_country_df[\"Hours\"].min()\n",
    "x_max = cleaned_country_df[\"Hours\"].max()\n",
    "y_min = achievement_per_hour_model.predict([[x_min]])\n",
    "y_max = achievement_per_hour_model.predict([[x_max]])\n",
    "print(x_min, x_max)"
   ]
  },
  {
   "cell_type": "code",
   "execution_count": 176,
   "metadata": {},
   "outputs": [
    {
     "data": {
      "text/plain": [
       "[<matplotlib.lines.Line2D at 0x149b7be0bc8>]"
      ]
     },
     "execution_count": 176,
     "metadata": {},
     "output_type": "execute_result"
    },
    {
     "data": {
      "image/png": "[encoded data removed]",
      "text/plain": [
       "<Figure size 432x288 with 1 Axes>"
      ]
     },
     "metadata": {
      "needs_background": "light"
     },
     "output_type": "display_data"
    }
   ],
   "source": [
    "plt.scatter([[a] for a in cleaned_country_df[\"Hours\"]], cleaned_country_df[\"Number\"], c='blue')\n",
    "plt.plot([x_min, x_max], [y_min, y_max], c='red')"
   ]
  },
  {
   "cell_type": "code",
   "execution_count": 177,
   "metadata": {},
   "outputs": [
    {
     "data": {
      "image/png": "[encoded data removed]",
      "text/plain": [
       "<Figure size 432x288 with 1 Axes>"
      ]
     },
     "metadata": {
      "needs_background": "light"
     },
     "output_type": "display_data"
    }
   ],
   "source": [
    "# scatterplot and linear regression for # games vs. hours\n",
    "temp_axes3 = cleaned_country_df.plot(kind=\"scatter\", x=\"Hours\", \n",
    "                                       y=\"Games\", \n",
    "                                       title=\"Games vs. Hours\")"
   ]
  },
  {
   "cell_type": "code",
   "execution_count": 178,
   "metadata": {},
   "outputs": [
    {
     "name": "stdout",
     "output_type": "stream",
     "text": [
      "LinearRegression(fit_intercept=False)\n",
      "Weight coefficients:  [0.08342957]\n",
      "y-axis intercept:  0.0\n"
     ]
    }
   ],
   "source": [
    "games_per_hour_model = LinearRegression(fit_intercept=False)\n",
    "games_per_hour_model.fit([[a] for a in cleaned_country_df[\"Hours\"]], cleaned_country_df[\"Games\"])\n",
    "print(games_per_hour_model)\n",
    "print('Weight coefficients: ', games_per_hour_model.coef_)\n",
    "print('y-axis intercept: ', games_per_hour_model.intercept_) "
   ]
  },
  {
   "cell_type": "code",
   "execution_count": 179,
   "metadata": {},
   "outputs": [
    {
     "name": "stdout",
     "output_type": "stream",
     "text": [
      "R^2 for games_per_hour_model: 0.9868906369424175\n"
     ]
    }
   ],
   "source": [
    "# R^2 score (variance) for the linear regression model\n",
    "r2_games = games_per_hour_model.score([[a] for a in cleaned_country_df[\"Hours\"]], cleaned_country_df[\"Games\"])\n",
    "print(\"R^2 for games_per_hour_model: {}\".format(r2_games))"
   ]
  },
  {
   "cell_type": "code",
   "execution_count": 180,
   "metadata": {},
   "outputs": [
    {
     "name": "stdout",
     "output_type": "stream",
     "text": [
      "13.9 236137390.5\n"
     ]
    }
   ],
   "source": [
    "x_min = cleaned_country_df[\"Hours\"].min()\n",
    "x_max = cleaned_country_df[\"Hours\"].max()\n",
    "y_min = games_per_hour_model.predict([[x_min]])\n",
    "y_max = games_per_hour_model.predict([[x_max]])\n",
    "print(x_min, x_max)"
   ]
  },
  {
   "cell_type": "code",
   "execution_count": 181,
   "metadata": {},
   "outputs": [
    {
     "data": {
      "text/plain": [
       "[<matplotlib.lines.Line2D at 0x149b83636c8>]"
      ]
     },
     "execution_count": 181,
     "metadata": {},
     "output_type": "execute_result"
    },
    {
     "data": {
      "image/png": "[encoded data removed]",
      "text/plain": [
       "<Figure size 432x288 with 1 Axes>"
      ]
     },
     "metadata": {
      "needs_background": "light"
     },
     "output_type": "display_data"
    }
   ],
   "source": [
    "plt.scatter([[a] for a in cleaned_country_df[\"Hours\"]], cleaned_country_df[\"Games\"], c='blue')\n",
    "plt.plot([x_min, x_max], [y_min, y_max], c='red')"
   ]
  },
  {
   "cell_type": "code",
   "execution_count": 182,
   "metadata": {},
   "outputs": [
    {
     "name": "stderr",
     "output_type": "stream",
     "text": [
      "C:\\Users\\patri\\anaconda3\\lib\\site-packages\\IPython\\core\\interactiveshell.py:3063: DtypeWarning: Columns (2) have mixed types.Specify dtype option on import or set low_memory=False.\n",
      "  interactivity=interactivity, compiler=compiler, result=result)\n"
     ]
    }
   ],
   "source": [
    "# show actual vs. predicted statistics for my profile (gendotti)\n",
    "# first import the other dataset\n",
    "player_df = pd.read_csv(\"../amended_first_200k_players.csv\")"
   ]
  },
  {
   "cell_type": "code",
   "execution_count": 183,
   "metadata": {},
   "outputs": [
    {
     "data": {
      "text/html": [
       "<div>\n",
       "<style scoped>\n",
       "    .dataframe tbody tr th:only-of-type {\n",
       "        vertical-align: middle;\n",
       "    }\n",
       "\n",
       "    .dataframe tbody tr th {\n",
       "        vertical-align: top;\n",
       "    }\n",
       "\n",
       "    .dataframe thead th {\n",
       "        text-align: right;\n",
       "    }\n",
       "</style>\n",
       "<table border=\"1\" class=\"dataframe\">\n",
       "  <thead>\n",
       "    <tr style=\"text-align: right;\">\n",
       "      <th></th>\n",
       "      <th>Unnamed: 0</th>\n",
       "      <th>Rank</th>\n",
       "      <th>Player Id</th>\n",
       "      <th>Player Name</th>\n",
       "      <th>Best achievements</th>\n",
       "      <th>Points</th>\n",
       "      <th>#</th>\n",
       "      <th>Games</th>\n",
       "      <th>100%</th>\n",
       "      <th>All</th>\n",
       "      <th>Badges</th>\n",
       "      <th>XP</th>\n",
       "      <th>Member since</th>\n",
       "      <th>Hours</th>\n",
       "      <th>Last update</th>\n",
       "    </tr>\n",
       "  </thead>\n",
       "  <tbody>\n",
       "    <tr>\n",
       "      <th>157897</th>\n",
       "      <td>157867</td>\n",
       "      <td>157898</td>\n",
       "      <td>76561198012265407</td>\n",
       "      <td>gendotti</td>\n",
       "      <td>[\"It's Medicinal (Rebel Inc: Escalation – 2.17...</td>\n",
       "      <td>652.0</td>\n",
       "      <td>945</td>\n",
       "      <td>155</td>\n",
       "      <td>1</td>\n",
       "      <td>158.0</td>\n",
       "      <td>7</td>\n",
       "      <td>2105</td>\n",
       "      <td>07/27/2009</td>\n",
       "      <td>1897.5</td>\n",
       "      <td>08/28/2022 08:22:58</td>\n",
       "    </tr>\n",
       "  </tbody>\n",
       "</table>\n",
       "</div>"
      ],
      "text/plain": [
       "        Unnamed: 0    Rank          Player Id Player Name  \\\n",
       "157897      157867  157898  76561198012265407    gendotti   \n",
       "\n",
       "                                        Best achievements  Points    #  Games  \\\n",
       "157897  [\"It's Medicinal (Rebel Inc: Escalation – 2.17...   652.0  945    155   \n",
       "\n",
       "        100%    All  Badges    XP Member since   Hours          Last update  \n",
       "157897     1  158.0       7  2105   07/27/2009  1897.5  08/28/2022 08:22:58  "
      ]
     },
     "execution_count": 183,
     "metadata": {},
     "output_type": "execute_result"
    }
   ],
   "source": [
    "# then get my profile from the other dataset (feel free to get your profile!)\n",
    "player_name = \"gendotti\"\n",
    "my_profile = player_df.loc[player_df[\"Player Name\"] == player_name]\n",
    "my_profile"
   ]
  },
  {
   "cell_type": "code",
   "execution_count": 184,
   "metadata": {},
   "outputs": [],
   "source": [
    "# use the above info to fill out the variables for the linear regression predictions\n",
    "hours = my_profile[\"Hours\"].values[0]\n",
    "points = my_profile[\"Points\"].values[0]\n",
    "achievements = my_profile[\"#\"].values[0]\n",
    "games = my_profile[\"Games\"].values[0]"
   ]
  },
  {
   "cell_type": "code",
   "execution_count": 185,
   "metadata": {},
   "outputs": [
    {
     "name": "stdout",
     "output_type": "stream",
     "text": [
      "True output: 652.0\n",
      "Predicted output: 419.34725560422595\n",
      "Prediction Error: -232.65274439577405\n"
     ]
    }
   ],
   "source": [
    "# predict the number of points my profile should have\n",
    "# based on the number of hours on Steam\n",
    "point_prediction = point_per_hour_model.predict([[hours]])\n",
    "print(f\"True output: {points}\")\n",
    "print(f\"Predicted output: {point_prediction[0]}\")\n",
    "print(f\"Prediction Error: {point_prediction[0]-points}\")"
   ]
  },
  {
   "cell_type": "markdown",
   "metadata": {},
   "source": [
    "The error is relatively high (over 30% low vs. my actual number of points), but I choose to think that means I'm a good gamer, or maybe that I play uncommon games with more achievements!"
   ]
  },
  {
   "cell_type": "code",
   "execution_count": 186,
   "metadata": {},
   "outputs": [
    {
     "name": "stdout",
     "output_type": "stream",
     "text": [
      "True output: 945\n",
      "Predicted output: 667.0\n",
      "Prediction Error: -278.0\n"
     ]
    }
   ],
   "source": [
    "achievement_prediction = achievement_per_hour_model.predict([[hours]])\n",
    "print(f\"True output: {achievements}\")\n",
    "print(f\"Predicted output: {round(achievement_prediction[0])}\")\n",
    "print(f\"Prediction Error: {round(achievement_prediction[0])-achievements}\")"
   ]
  },
  {
   "cell_type": "markdown",
   "metadata": {},
   "source": [
    "The error is relatively high (over 25% low vs. my actual number of points), but I choose to think that means I'm a good gamer, or maybe that I play uncommon games with more achievements (as above)! Since this is low by almost the same percentage as the previous prediction for achievement points, those are likely highly correlated - which makes sense, because achievements grant a certain number of points on this website. The type and number of games played may contribute fluctuations in these predictions - I personally play a lot of grand strategy games and they tend to have a lot of achievements and take a long time to play. Since the range of achievements within one game is so large, and the game takes a long time to play, different players can wind up with highly different achievements and the resulting achievements are worth more because they are uncommon due to how playstyles differ, the size of the game, and the length of the game. For example, Europa Universalis IV has a total of 190 achievements in the base game, worth a grand total of 320.89 points. The only game I've completed, on the other hand, is E-Startup, a pre-release game that has 10 achievements (most of which can be obtained in one playthrough) worth a grand total of 14.58 points."
   ]
  },
  {
   "cell_type": "code",
   "execution_count": 188,
   "metadata": {},
   "outputs": [
    {
     "name": "stdout",
     "output_type": "stream",
     "text": [
      "True output: 155\n",
      "Predicted output: 158.0\n",
      "Prediction Error: 3.0\n"
     ]
    }
   ],
   "source": [
    "game_prediction = games_per_hour_model.predict([[hours]])\n",
    "print(f\"True output: {games}\")\n",
    "print(f\"Predicted output: {round(game_prediction[0])}\")\n",
    "print(f\"Prediction Error: {round(game_prediction[0])-games}\")"
   ]
  },
  {
   "cell_type": "markdown",
   "metadata": {},
   "source": [
    "Bingo! I have 155 games (the website counts DLCs and expansions as separate games) and the linear model predicted I would have 158."
   ]
  }
 ],
 "metadata": {
  "kernelspec": {
   "display_name": "Python 3",
   "language": "python",
   "name": "python3"
  },
  "language_info": {
   "codemirror_mode": {
    "name": "ipython",
    "version": 3
   },
   "file_extension": ".py",
   "mimetype": "text/x-python",
   "name": "python",
   "nbconvert_exporter": "python",
   "pygments_lexer": "ipython3",
   "version": "3.7.6"
  }
 },
 "nbformat": 4,
 "nbformat_minor": 4
}
